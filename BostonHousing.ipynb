{
 "cells": [
  {
   "cell_type": "code",
   "execution_count": 1,
   "metadata": {
    "collapsed": true
   },
   "outputs": [],
   "source": [
    "from sklearn import datasets\n",
    "import pandas as pd\n",
    "from sklearn.preprocessing import StandardScaler\n",
    "from sklearn.cross_validation import train_test_split\n",
    "from sklearn.metrics import mean_squared_error\n",
    "from sklearn.metrics import r2_score\n",
    "from sklearn.linear_model import LinearRegression\n",
    "from sklearn.linear_model import Lasso\n",
    "from sklearn.linear_model import Ridge"
   ]
  },
  {
   "cell_type": "code",
   "execution_count": 2,
   "metadata": {
    "collapsed": true
   },
   "outputs": [],
   "source": [
    "bean=datasets.load_boston()"
   ]
  },
  {
   "cell_type": "code",
   "execution_count": 3,
   "metadata": {
    "collapsed": false
   },
   "outputs": [
    {
     "name": "stdout",
     "output_type": "stream",
     "text": [
      "Boston House Prices dataset\n",
      "\n",
      "Notes\n",
      "------\n",
      "Data Set Characteristics:  \n",
      "\n",
      "    :Number of Instances: 506 \n",
      "\n",
      "    :Number of Attributes: 13 numeric/categorical predictive\n",
      "    \n",
      "    :Median Value (attribute 14) is usually the target\n",
      "\n",
      "    :Attribute Information (in order):\n",
      "        - CRIM     per capita crime rate by town\n",
      "        - ZN       proportion of residential land zoned for lots over 25,000 sq.ft.\n",
      "        - INDUS    proportion of non-retail business acres per town\n",
      "        - CHAS     Charles River dummy variable (= 1 if tract bounds river; 0 otherwise)\n",
      "        - NOX      nitric oxides concentration (parts per 10 million)\n",
      "        - RM       average number of rooms per dwelling\n",
      "        - AGE      proportion of owner-occupied units built prior to 1940\n",
      "        - DIS      weighted distances to five Boston employment centres\n",
      "        - RAD      index of accessibility to radial highways\n",
      "        - TAX      full-value property-tax rate per $10,000\n",
      "        - PTRATIO  pupil-teacher ratio by town\n",
      "        - B        1000(Bk - 0.63)^2 where Bk is the proportion of blacks by town\n",
      "        - LSTAT    % lower status of the population\n",
      "        - MEDV     Median value of owner-occupied homes in $1000's\n",
      "\n",
      "    :Missing Attribute Values: None\n",
      "\n",
      "    :Creator: Harrison, D. and Rubinfeld, D.L.\n",
      "\n",
      "This is a copy of UCI ML housing dataset.\n",
      "http://archive.ics.uci.edu/ml/datasets/Housing\n",
      "\n",
      "\n",
      "This dataset was taken from the StatLib library which is maintained at Carnegie Mellon University.\n",
      "\n",
      "The Boston house-price data of Harrison, D. and Rubinfeld, D.L. 'Hedonic\n",
      "prices and the demand for clean air', J. Environ. Economics & Management,\n",
      "vol.5, 81-102, 1978.   Used in Belsley, Kuh & Welsch, 'Regression diagnostics\n",
      "...', Wiley, 1980.   N.B. Various transformations are used in the table on\n",
      "pages 244-261 of the latter.\n",
      "\n",
      "The Boston house-price data has been used in many machine learning papers that address regression\n",
      "problems.   \n",
      "     \n",
      "**References**\n",
      "\n",
      "   - Belsley, Kuh & Welsch, 'Regression diagnostics: Identifying Influential Data and Sources of Collinearity', Wiley, 1980. 244-261.\n",
      "   - Quinlan,R. (1993). Combining Instance-Based and Model-Based Learning. In Proceedings on the Tenth International Conference of Machine Learning, 236-243, University of Massachusetts, Amherst. Morgan Kaufmann.\n",
      "   - many more! (see http://archive.ics.uci.edu/ml/datasets/Housing)\n",
      "\n"
     ]
    }
   ],
   "source": [
    "print bean.DESCR"
   ]
  },
  {
   "cell_type": "code",
   "execution_count": 5,
   "metadata": {
    "collapsed": true
   },
   "outputs": [],
   "source": [
    "def load_boston():\n",
    "    scaler = StandardScaler()\n",
    "    boston = datasets.load_boston()\n",
    "    X=boston.data\n",
    "    y=boston.target\n",
    "    X = scaler.fit_transform(X)\n",
    "    return train_test_split(X,y)"
   ]
  },
  {
   "cell_type": "code",
   "execution_count": 50,
   "metadata": {
    "collapsed": true
   },
   "outputs": [],
   "source": [
    "#lets divide the data in boston housing to training and test sets using load_boston\n",
    "#X referes to independent varaible and y referes to dependent variable \n",
    "X_train, X_test, y_train, y_test = load_boston()"
   ]
  },
  {
   "cell_type": "code",
   "execution_count": 51,
   "metadata": {
    "collapsed": false
   },
   "outputs": [
    {
     "data": {
      "text/plain": [
       "(379L, 13L)"
      ]
     },
     "execution_count": 51,
     "metadata": {},
     "output_type": "execute_result"
    }
   ],
   "source": [
    "#Lets check the shape of training data of the independent variable \n",
    "X_train.shape"
   ]
  },
  {
   "cell_type": "code",
   "execution_count": 8,
   "metadata": {
    "collapsed": true
   },
   "outputs": [],
   "source": [
    "#Fitting a linear regression \n",
    "#Instantiating a new regression object\n",
    "nlr=LinearRegression()"
   ]
  },
  {
   "cell_type": "code",
   "execution_count": 13,
   "metadata": {
    "collapsed": false
   },
   "outputs": [
    {
     "data": {
      "text/plain": [
       "LinearRegression(copy_X=True, fit_intercept=True, n_jobs=1, normalize=False)"
      ]
     },
     "execution_count": 13,
     "metadata": {},
     "output_type": "execute_result"
    }
   ],
   "source": [
    "#Giving training data of independent and dependent variables to the linear regression object by calling .fit(X,y)\n",
    "nlr.fit(X_train,y_train)"
   ]
  },
  {
   "cell_type": "code",
   "execution_count": 14,
   "metadata": {
    "collapsed": false
   },
   "outputs": [
    {
     "data": {
      "text/plain": [
       "[(32.0, 33.698108652649978),\n",
       " (8.5, 8.4116468966136804),\n",
       " (15.199999999999999, 20.00409274211982),\n",
       " (19.100000000000001, 17.461997738864767),\n",
       " (50.0, 33.899700871629165),\n",
       " (20.399999999999999, 19.124087768964788),\n",
       " (12.5, 20.010054874835049),\n",
       " (22.699999999999999, 24.374170145522001),\n",
       " (32.5, 30.34563285601083),\n",
       " (15.6, 19.958628771686353),\n",
       " (22.199999999999999, 21.828025060360975),\n",
       " (36.200000000000003, 27.613262656122107),\n",
       " (13.300000000000001, 21.564229594252421),\n",
       " (28.399999999999999, 30.947636769761111),\n",
       " (12.6, 18.248388261272545),\n",
       " (30.300000000000001, 33.196840557966993),\n",
       " (13.1, 14.536925520679274),\n",
       " (14.0, 15.394646652213682),\n",
       " (15.0, 13.523717679423441),\n",
       " (20.100000000000001, 16.260656715836628),\n",
       " (15.699999999999999, 16.392376028231176),\n",
       " (18.699999999999999, 21.11285140432533),\n",
       " (18.800000000000001, 20.919431364405785),\n",
       " (8.5, 16.468979139125572),\n",
       " (18.699999999999999, 17.600448508476589),\n",
       " (13.300000000000001, 17.074850817625034),\n",
       " (48.799999999999997, 41.854996865087116),\n",
       " (20.100000000000001, 20.610294624104611),\n",
       " (17.300000000000001, 18.123224579698459),\n",
       " (24.699999999999999, 24.864989994527438),\n",
       " (21.100000000000001, 20.424132842593835),\n",
       " (23.100000000000001, 24.694340097658895),\n",
       " (15.0, 26.138540468210532),\n",
       " (23.800000000000001, 25.456817573148154),\n",
       " (27.5, 20.686843645529301),\n",
       " (23.0, 29.704864941440142),\n",
       " (20.600000000000001, 27.182089194359932),\n",
       " (29.399999999999999, 30.601138896159277),\n",
       " (24.600000000000001, 24.720387900758254),\n",
       " (23.300000000000001, 21.448223037268932),\n",
       " (13.9, 13.279068848424354),\n",
       " (29.600000000000001, 25.133112959679483),\n",
       " (23.899999999999999, 25.029342054424582),\n",
       " (19.800000000000001, 22.896289113275778),\n",
       " (26.199999999999999, 24.404091011791998),\n",
       " (24.399999999999999, 24.082789271869046),\n",
       " (13.6, 13.002372999794222),\n",
       " (7.4000000000000004, 6.7866955796074571),\n",
       " (13.1, 17.159568526383307),\n",
       " (17.5, 16.369728436477637),\n",
       " (20.0, 23.171994717022645),\n",
       " (22.600000000000001, 24.262278361041648),\n",
       " (30.5, 30.12282697714333),\n",
       " (20.0, 20.883644718661927),\n",
       " (13.4, 13.560542493405837),\n",
       " (50.0, 21.008808556041274),\n",
       " (30.100000000000001, 25.046006440965268),\n",
       " (33.399999999999999, 28.47618845600768),\n",
       " (13.4, 14.257161041300662),\n",
       " (10.199999999999999, 17.698567453158045),\n",
       " (11.800000000000001, 13.738513016739494),\n",
       " (23.0, 23.275846727326414),\n",
       " (20.0, 22.146580807886622),\n",
       " (19.399999999999999, 23.181860747373548),\n",
       " (19.899999999999999, 20.396135076950728),\n",
       " (17.5, 17.136806087952902),\n",
       " (20.300000000000001, 23.052844795687921),\n",
       " (22.5, 18.433220791393669),\n",
       " (19.399999999999999, 25.324380782154016),\n",
       " (12.699999999999999, 12.283305716169952),\n",
       " (20.399999999999999, 20.451841749835157),\n",
       " (20.800000000000001, 23.580868505944519),\n",
       " (15.6, 15.224136237929422),\n",
       " (20.699999999999999, 26.108114775779651),\n",
       " (12.800000000000001, 13.507174930416966),\n",
       " (28.399999999999999, 28.536235953341475),\n",
       " (19.5, 18.769293859067925),\n",
       " (32.399999999999999, 36.238398222707147),\n",
       " (20.5, 23.628228535683828),\n",
       " (19.899999999999999, 18.855255188895306),\n",
       " (18.199999999999999, 18.975447596484145),\n",
       " (24.0, 25.072911323593768),\n",
       " (14.800000000000001, 15.094568383137169),\n",
       " (25.0, 25.036533051554109),\n",
       " (8.3000000000000007, 10.137391586200192),\n",
       " (21.399999999999999, 24.746754313180407),\n",
       " (21.699999999999999, 22.047437576865477),\n",
       " (23.0, 20.273794986211062),\n",
       " (19.600000000000001, 17.360122492005004),\n",
       " (17.100000000000001, 20.12553491820259),\n",
       " (24.800000000000001, 27.367846413298125),\n",
       " (22.0, 29.272240614251587),\n",
       " (7.2000000000000002, 18.571885761083426),\n",
       " (19.600000000000001, 22.76035725124871),\n",
       " (18.0, 19.798986489430835),\n",
       " (50.0, 42.125738648088685),\n",
       " (21.5, 25.521398897208819),\n",
       " (34.899999999999999, 34.41799573753012),\n",
       " (8.8000000000000007, 3.4473775416001189),\n",
       " (10.800000000000001, 11.978016895261804),\n",
       " (24.5, 21.043353562088157),\n",
       " (36.5, 35.880179094817208),\n",
       " (33.100000000000001, 33.1385986521653),\n",
       " (23.199999999999999, 26.798394855874953),\n",
       " (5.0, 7.8865599169359353),\n",
       " (23.600000000000001, 30.521161064554232),\n",
       " (20.600000000000001, 19.416208685304507),\n",
       " (18.5, 24.974974549781322),\n",
       " (13.300000000000001, 14.917777019748748),\n",
       " (17.199999999999999, 17.533123990225011),\n",
       " (7.5, 14.669027519620865),\n",
       " (13.4, 16.584511700685951),\n",
       " (23.399999999999999, 24.437895593683688),\n",
       " (23.100000000000001, 7.8880690568835501),\n",
       " (30.699999999999999, 32.036876636228264),\n",
       " (16.5, 12.896035661474141),\n",
       " (31.699999999999999, 33.427332740939079),\n",
       " (7.2000000000000002, 10.908955370736265),\n",
       " (16.0, 18.294936248546776),\n",
       " (22.399999999999999, 23.450024509409971),\n",
       " (11.9, 21.95499132215804),\n",
       " (15.6, 15.921323644527202),\n",
       " (28.699999999999999, 28.472813836104823),\n",
       " (22.0, 22.568524072693393),\n",
       " (21.399999999999999, 21.711813504215112),\n",
       " (18.199999999999999, 13.808156624480015),\n",
       " (20.600000000000001, 22.285431131176519)]"
      ]
     },
     "execution_count": 14,
     "metadata": {},
     "output_type": "execute_result"
    }
   ],
   "source": [
    "#lets compare the real value to the predicted values and create a tuple of the observation \n",
    "zip(y_test,nlr.predict(X_test))"
   ]
  },
  {
   "cell_type": "code",
   "execution_count": 16,
   "metadata": {
    "collapsed": true
   },
   "outputs": [],
   "source": [
    "#lets assign a vaiable to the predicted values\n",
    "y_LrPred=nlr.predict(X_test)"
   ]
  },
  {
   "cell_type": "code",
   "execution_count": 17,
   "metadata": {
    "collapsed": true
   },
   "outputs": [],
   "source": [
    "#lets measure the performance of linear regressor nlr using R^2 and mse\n",
    "#R^2 (coefficient of determination) regression score function\n",
    "r2Score=r2_score(y_test,y_LrPred)"
   ]
  },
  {
   "cell_type": "code",
   "execution_count": 18,
   "metadata": {
    "collapsed": false
   },
   "outputs": [
    {
     "data": {
      "text/plain": [
       "0.65844946060822163"
      ]
     },
     "execution_count": 18,
     "metadata": {},
     "output_type": "execute_result"
    }
   ],
   "source": [
    "#lets print R^2 score \n",
    "r2Score"
   ]
  },
  {
   "cell_type": "code",
   "execution_count": 20,
   "metadata": {
    "collapsed": false
   },
   "outputs": [],
   "source": [
    "#Now lets do mse (mean square root )\n",
    "mseValue=mean_squared_error(y_test,y_LrPred)"
   ]
  },
  {
   "cell_type": "code",
   "execution_count": 21,
   "metadata": {
    "collapsed": false
   },
   "outputs": [
    {
     "data": {
      "text/plain": [
       "24.274009328517412"
      ]
     },
     "execution_count": 21,
     "metadata": {},
     "output_type": "execute_result"
    }
   ],
   "source": [
    "#lets print mse value\n",
    "mseValue"
   ]
  },
  {
   "cell_type": "markdown",
   "metadata": {},
   "source": [
    "\n",
    "R^2 score and mse on the Linear reggessor are \n",
    "\n",
    "R^2=0.65844946060822163\n",
    "\n",
    "mse=24.274009328517412"
   ]
  },
  {
   "cell_type": "code",
   "execution_count": 42,
   "metadata": {
    "collapsed": true
   },
   "outputs": [],
   "source": [
    "#lets now try Ridge linear regression \n",
    "#lets assign a value to alpha and instiantiate new object\n",
    "alpha=0.001\n",
    "ridge=Ridge(alpha=alpha)"
   ]
  },
  {
   "cell_type": "code",
   "execution_count": 43,
   "metadata": {
    "collapsed": false
   },
   "outputs": [
    {
     "data": {
      "text/plain": [
       "Ridge(alpha=0.001, copy_X=True, fit_intercept=True, max_iter=None,\n",
       "   normalize=False, random_state=None, solver='auto', tol=0.001)"
      ]
     },
     "execution_count": 43,
     "metadata": {},
     "output_type": "execute_result"
    }
   ],
   "source": [
    "#lets fit the training data of independent and dependent variables to the Ridge linear regression object by calling .fit(X,y)\n",
    "ridge.fit(X_train,y_train)"
   ]
  },
  {
   "cell_type": "code",
   "execution_count": 44,
   "metadata": {
    "collapsed": false
   },
   "outputs": [
    {
     "data": {
      "text/plain": [
       "[(32.0, 33.698043308342818),\n",
       " (8.5, 8.4116718391259511),\n",
       " (15.199999999999999, 20.004089276958357),\n",
       " (19.100000000000001, 17.46195109655886),\n",
       " (50.0, 33.899658245877312),\n",
       " (20.399999999999999, 19.12412986956183),\n",
       " (12.5, 20.010031821352491),\n",
       " (22.699999999999999, 24.374140781710061),\n",
       " (32.5, 30.345586249663352),\n",
       " (15.6, 19.958716216979603),\n",
       " (22.199999999999999, 21.828049173584713),\n",
       " (36.200000000000003, 27.613217472658675),\n",
       " (13.300000000000001, 21.564201717241275),\n",
       " (28.399999999999999, 30.947549442023146),\n",
       " (12.6, 18.24839273252455),\n",
       " (30.300000000000001, 33.196849943345399),\n",
       " (13.1, 14.536953696792484),\n",
       " (14.0, 15.394666643342683),\n",
       " (15.0, 13.523717677731216),\n",
       " (20.100000000000001, 16.260785566309483),\n",
       " (15.699999999999999, 16.392234161098692),\n",
       " (18.699999999999999, 21.11284409616146),\n",
       " (18.800000000000001, 20.919457169201632),\n",
       " (8.5, 16.468953453304859),\n",
       " (18.699999999999999, 17.600436156343545),\n",
       " (13.300000000000001, 17.074804484503851),\n",
       " (48.799999999999997, 41.85497650273895),\n",
       " (20.100000000000001, 20.610314389259749),\n",
       " (17.300000000000001, 18.123085206015091),\n",
       " (24.699999999999999, 24.864989669042355),\n",
       " (21.100000000000001, 20.424149090725734),\n",
       " (23.100000000000001, 24.694341747895241),\n",
       " (15.0, 26.138522344287772),\n",
       " (23.800000000000001, 25.456818319229431),\n",
       " (27.5, 20.686805133861682),\n",
       " (23.0, 29.704819418009919),\n",
       " (20.600000000000001, 27.18198703685761),\n",
       " (29.399999999999999, 30.601135873509065),\n",
       " (24.600000000000001, 24.720410494340456),\n",
       " (23.300000000000001, 21.448225530236762),\n",
       " (13.9, 13.279109760728502),\n",
       " (29.600000000000001, 25.133165137509025),\n",
       " (23.899999999999999, 25.029346067372131),\n",
       " (19.800000000000001, 22.896314848653645),\n",
       " (26.199999999999999, 24.404123433872083),\n",
       " (24.399999999999999, 24.082771109195718),\n",
       " (13.6, 13.00240124974591),\n",
       " (7.4000000000000004, 6.7866941050544121),\n",
       " (13.1, 17.159558005008385),\n",
       " (17.5, 16.369843744607358),\n",
       " (20.0, 23.171994501696112),\n",
       " (22.600000000000001, 24.262388042283924),\n",
       " (30.5, 30.122868284223973),\n",
       " (20.0, 20.88363105721762),\n",
       " (13.4, 13.560516992814314),\n",
       " (50.0, 21.008736926444591),\n",
       " (30.100000000000001, 25.045991302570968),\n",
       " (33.399999999999999, 28.476217540550216),\n",
       " (13.4, 14.257183877010222),\n",
       " (10.199999999999999, 17.69854682492193),\n",
       " (11.800000000000001, 13.738522262747523),\n",
       " (23.0, 23.275795689535137),\n",
       " (20.0, 22.146565749352749),\n",
       " (19.399999999999999, 23.181898623498956),\n",
       " (19.899999999999999, 20.396092227683223),\n",
       " (17.5, 17.136842335601891),\n",
       " (20.300000000000001, 23.052704920452246),\n",
       " (22.5, 18.433200743431698),\n",
       " (19.399999999999999, 25.324357618169707),\n",
       " (12.699999999999999, 12.283316623586916),\n",
       " (20.399999999999999, 20.451874412718876),\n",
       " (20.800000000000001, 23.580871337739946),\n",
       " (15.6, 15.224193183208442),\n",
       " (20.699999999999999, 26.108078079318624),\n",
       " (12.800000000000001, 13.507172844136662),\n",
       " (28.399999999999999, 28.53624993879464),\n",
       " (19.5, 18.769313093780294),\n",
       " (32.399999999999999, 36.238347642932226),\n",
       " (20.5, 23.628211709509817),\n",
       " (19.899999999999999, 18.855294127235386),\n",
       " (18.199999999999999, 18.975484561510697),\n",
       " (24.0, 25.072877962673985),\n",
       " (14.800000000000001, 15.094612140177562),\n",
       " (25.0, 25.036540156343658),\n",
       " (8.3000000000000007, 10.137395341749903),\n",
       " (21.399999999999999, 24.746765208983483),\n",
       " (21.699999999999999, 22.04742959351179),\n",
       " (23.0, 20.27381920311392),\n",
       " (19.600000000000001, 17.360169572178965),\n",
       " (17.100000000000001, 20.125571780689249),\n",
       " (24.800000000000001, 27.367814874465488),\n",
       " (22.0, 29.272203413194603),\n",
       " (7.2000000000000002, 18.571871052255862),\n",
       " (19.600000000000001, 22.760295393818787),\n",
       " (18.0, 19.799004351658159),\n",
       " (50.0, 42.125700285146436),\n",
       " (21.5, 25.521347345834897),\n",
       " (34.899999999999999, 34.417948925971622),\n",
       " (8.8000000000000007, 3.4473705847836662),\n",
       " (10.800000000000001, 11.978028004056972),\n",
       " (24.5, 21.043386155932495),\n",
       " (36.5, 35.880146562073264),\n",
       " (33.100000000000001, 33.138564996928949),\n",
       " (23.199999999999999, 26.798357022150554),\n",
       " (5.0, 7.8865754497780145),\n",
       " (23.600000000000001, 30.521176932837438),\n",
       " (20.600000000000001, 19.41618049218993),\n",
       " (18.5, 24.974998728692537),\n",
       " (13.300000000000001, 14.917793026801956),\n",
       " (17.199999999999999, 17.533091301072815),\n",
       " (7.5, 14.669030270710948),\n",
       " (13.4, 16.584524252147517),\n",
       " (23.399999999999999, 24.437889814884031),\n",
       " (23.100000000000001, 7.8880204467791941),\n",
       " (30.699999999999999, 32.036852521525063),\n",
       " (16.5, 12.896054975664644),\n",
       " (31.699999999999999, 33.4273007880699),\n",
       " (7.2000000000000002, 10.908965699241346),\n",
       " (16.0, 18.294915287236442),\n",
       " (22.399999999999999, 23.450011058632548),\n",
       " (11.9, 21.954996266585038),\n",
       " (15.6, 15.921360503359688),\n",
       " (28.699999999999999, 28.472755143490581),\n",
       " (22.0, 22.568386483893853),\n",
       " (21.399999999999999, 21.711774781544719),\n",
       " (18.199999999999999, 13.808241674674555),\n",
       " (20.600000000000001, 22.285434487035246)]"
      ]
     },
     "execution_count": 44,
     "metadata": {},
     "output_type": "execute_result"
    }
   ],
   "source": [
    "#lets compare the real value to the predicted values and create a tuple of the observation by Ridge model\n",
    "zip(y_test,ridge.predict(X_test))"
   ]
  },
  {
   "cell_type": "code",
   "execution_count": 45,
   "metadata": {
    "collapsed": true
   },
   "outputs": [],
   "source": [
    "#lets assign a vaiable to the predicted values\n",
    "y_RgPred=ridge.predict(X_test)"
   ]
  },
  {
   "cell_type": "code",
   "execution_count": 46,
   "metadata": {
    "collapsed": true
   },
   "outputs": [],
   "source": [
    "#Now lets measure our Ridge model by using R^2 and mse\n",
    "#first lets do calculate R^2\n",
    "r2RgScore=r2_score(y_test,y_RgPred)"
   ]
  },
  {
   "cell_type": "code",
   "execution_count": 47,
   "metadata": {
    "collapsed": false
   },
   "outputs": [
    {
     "data": {
      "text/plain": [
       "0.65844954171896286"
      ]
     },
     "execution_count": 47,
     "metadata": {},
     "output_type": "execute_result"
    }
   ],
   "source": [
    "#lets print R^2 score\n",
    "r2RgScore"
   ]
  },
  {
   "cell_type": "code",
   "execution_count": 48,
   "metadata": {
    "collapsed": true
   },
   "outputs": [],
   "source": [
    "#now lets do mse \n",
    "mseRgScore=mean_squared_error(y_test,y_RgPred)"
   ]
  },
  {
   "cell_type": "code",
   "execution_count": 49,
   "metadata": {
    "collapsed": false
   },
   "outputs": [
    {
     "data": {
      "text/plain": [
       "24.274003563974059"
      ]
     },
     "execution_count": 49,
     "metadata": {},
     "output_type": "execute_result"
    }
   ],
   "source": [
    "#lets print mse score of our ridge model\n",
    "mseRgScore"
   ]
  },
  {
   "cell_type": "markdown",
   "metadata": {},
   "source": [
    "\n",
    "R^2 score and mse on the Ridge linear reggessor model is \n",
    "\n",
    "R^2=0.65850094220597888\n",
    "\n",
    "mse=24.270350529481608"
   ]
  },
  {
   "cell_type": "markdown",
   "metadata": {},
   "source": [
    "\n",
    "When we have set alpha at 0.001 we are getting a optimal result \n"
   ]
  },
  {
   "cell_type": "code",
   "execution_count": null,
   "metadata": {
    "collapsed": true
   },
   "outputs": [],
   "source": []
  }
 ],
 "metadata": {
  "kernelspec": {
   "display_name": "Python 2",
   "language": "python",
   "name": "python2"
  },
  "language_info": {
   "codemirror_mode": {
    "name": "ipython",
    "version": 2
   },
   "file_extension": ".py",
   "mimetype": "text/x-python",
   "name": "python",
   "nbconvert_exporter": "python",
   "pygments_lexer": "ipython2",
   "version": "2.7.11"
  }
 },
 "nbformat": 4,
 "nbformat_minor": 0
}
