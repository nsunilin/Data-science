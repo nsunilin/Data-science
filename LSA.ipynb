{
 "cells": [
  {
   "cell_type": "code",
   "execution_count": 212,
   "metadata": {
    "collapsed": true
   },
   "outputs": [],
   "source": [
    "import nltk\n",
    "from bs4 import BeautifulSoup\n",
    "from nltk.corpus import stopwords\n",
    "from sklearn.feature_extraction.text import TfidfVectorizer\n",
    "from sklearn.decomposition import TruncatedSVD\n",
    "from sklearn.datasets import fetch_20newsgroups\n",
    "import sys"
   ]
  },
  {
   "cell_type": "code",
   "execution_count": 3,
   "metadata": {
    "collapsed": false
   },
   "outputs": [
    {
     "name": "stdout",
     "output_type": "stream",
     "text": [
      "[nltk_data] Downloading package stopwords to\n",
      "[nltk_data]     C:\\Users\\sunil\\AppData\\Roaming\\nltk_data...\n",
      "[nltk_data]   Package stopwords is already up-to-date!\n"
     ]
    },
    {
     "data": {
      "text/plain": [
       "True"
      ]
     },
     "execution_count": 3,
     "metadata": {},
     "output_type": "execute_result"
    }
   ],
   "source": [
    "#Lets download the stop words\n",
    "nltk.download('stopwords')"
   ]
  },
  {
   "cell_type": "code",
   "execution_count": 114,
   "metadata": {
    "collapsed": false
   },
   "outputs": [],
   "source": [
    "#Lets imports and try to understand data or posts on the subject politics from newsgroup \n",
    "categories = ['talk.politics.mideast']\n",
    "dataset = fetch_20newsgroups(subset='all',shuffle=True, random_state=42, categories=categories)\n",
    "corpus = dataset.data\n",
    "#Converting the data in corpus to lower case\n",
    "corpus = [x.lower() for x in corpus]"
   ]
  },
  {
   "cell_type": "code",
   "execution_count": 115,
   "metadata": {
    "collapsed": false
   },
   "outputs": [
    {
     "data": {
      "text/plain": [
       "u'from: amoss@shuldig.cs.huji.ac.il (amos shapira)\\nsubject: re: final solution in palestine ?\\norganization: inst. of comp. sci., hebrew university, jerusalem, israel\\nlines: 30\\nnntp-posting-host: shuldig.cs.huji.ac.il\\nin-reply-to: ahmeda@mcrcim.mcgill.edu\\'s message of sun, 25 apr 93 17:10:03 gmt\\n\\nahmeda@mcrcim.mcgill.edu (ahmed abu-abed) writes:\\n\\n|what hamas and islamic jihad believe in, as far as i can get from the arab\\n|media,\\n|is an islamic state that protects the rights of all its inhabitants under\\n|koranic\\n|law. this would be a reversal of the 1948 situation in which the jews in\\n|palestine took control of the land and its (mostly muslim) inhabitants.\\n\\nthe borders of the jewish state as drawn by the u.n. included the areas which\\ncontained mostly jews,  that\\'s what the surveys and the numerous commitees\\nwhere after when they visited here.\\n\\n|however, whoever committed crimes against humanity (torture, blowing up their\\n|homes, murders,...) must be treated and tried as a war criminal. the political\\n|thought of these movements shows that a freedom of choice will be given to the\\n|jews in living under the new law or leaving to the destintion of their choice.\\n\\ni never touched an arab during my army service and never voted for anyone more\\nright than the green party.  will i be spared by these \"humanist standards\"?\\n(or will anyone stop to consider this before sloughtering me?)\\n\\ni doubt it.  and not only because of the past record of murdering helpless\\nwomen and children since the turn of the century up to these days.\\n\\n--\\n--amos shapira (jumper extraordinaire) |  \"it is true that power corrupts,\\nc.s. system group, hebrew university,  |   but absolute power is better!\"\\njerusalem 91904, israel                |\\namoss@cs.huji.ac.il                    |          -- the demon to his son\\n'"
      ]
     },
     "execution_count": 115,
     "metadata": {},
     "output_type": "execute_result"
    }
   ],
   "source": [
    "#Lets see the data\n",
    "corpus[0]"
   ]
  },
  {
   "cell_type": "code",
   "execution_count": 312,
   "metadata": {
    "collapsed": false
   },
   "outputs": [],
   "source": [
    "stopset = set(stopwords.words('english'))\n",
    "stopset.update(['\\n','ed','orin','mean','tog','gmt','edu','subject', 're','nntp','article',\n",
    "                'didn','nntp','posting','reply','host','right','utsa','tar','murderous','only',\n",
    "                '37','cramer','optilink','com','men','inst','org','amos','91904','people',\n",
    "                'mr','said','00','like','even','one','jake','livni','uci','00','1993',\n",
    "                '126','bony','000','ve','still','came','000413','0006','714','000246','11186','000246 11186','000th','0000'\n",
    "                ,'24102','002811 22496','002118','003336','10198','could'])"
   ]
  },
  {
   "cell_type": "code",
   "execution_count": 313,
   "metadata": {
    "collapsed": true
   },
   "outputs": [],
   "source": [
    "vectorizer = TfidfVectorizer(stop_words=stopset,\n",
    "                                 use_idf=True, ngram_range=(1, 3))\n",
    "X = vectorizer.fit_transform(corpus)"
   ]
  },
  {
   "cell_type": "code",
   "execution_count": 314,
   "metadata": {
    "collapsed": false
   },
   "outputs": [
    {
     "data": {
      "text/plain": [
       "<1x319412 sparse matrix of type '<type 'numpy.float64'>'\n",
       "\twith 429 stored elements in Compressed Sparse Row format>"
      ]
     },
     "execution_count": 314,
     "metadata": {},
     "output_type": "execute_result"
    }
   ],
   "source": [
    "X[0]"
   ]
  },
  {
   "cell_type": "code",
   "execution_count": 315,
   "metadata": {
    "collapsed": false
   },
   "outputs": [
    {
     "name": "stdout",
     "output_type": "stream",
     "text": [
      "  (0, 141512)\t0.0437435936686\n",
      "  (0, 14230)\t0.0437435936686\n",
      "  (0, 24336)\t0.0437435936686\n",
      "  (0, 150445)\t0.0437435936686\n",
      "  (0, 154139)\t0.0437435936686\n",
      "  (0, 47306)\t0.0437435936686\n",
      "  (0, 220758)\t0.0437435936686\n",
      "  (0, 13978)\t0.0437435936686\n",
      "  (0, 295402)\t0.0437435936686\n",
      "  (0, 133694)\t0.0437435936686\n",
      "  (0, 127764)\t0.0437435936686\n",
      "  (0, 274754)\t0.0437435936686\n",
      "  (0, 74652)\t0.0437435936686\n",
      "  (0, 220774)\t0.0437435936686\n",
      "  (0, 289227)\t0.0437435936686\n",
      "  (0, 105161)\t0.0437435936686\n",
      "  (0, 157444)\t0.0437435936686\n",
      "  (0, 254816)\t0.042850268688\n",
      "  (0, 81441)\t0.0542579379143\n",
      "  (0, 60100)\t0.0542579379143\n",
      "  (0, 292067)\t0.0542579379143\n",
      "  (0, 258530)\t0.0542579379143\n",
      "  (0, 62219)\t0.0542579379143\n",
      "  (0, 310300)\t0.0542579379143\n",
      "  (0, 134488)\t0.0542579379143\n",
      "  :\t:\n",
      "  (0, 8013)\t0.0260923648689\n",
      "  (0, 272629)\t0.0394991898791\n",
      "  (0, 184651)\t0.0259095970817\n",
      "  (0, 182574)\t0.0588048926031\n",
      "  (0, 182685)\t0.0638517036215\n",
      "  (0, 19715)\t0.0841023245252\n",
      "  (0, 8959)\t0.0252196219801\n",
      "  (0, 171176)\t0.0076330112169\n",
      "  (0, 150348)\t0.0288839421039\n",
      "  (0, 154062)\t0.0525592917882\n",
      "  (0, 295383)\t0.0270487089261\n",
      "  (0, 133654)\t0.0669400946062\n",
      "  (0, 248217)\t0.0394991898791\n",
      "  (0, 69244)\t0.0394991898791\n",
      "  (0, 206255)\t0.0087967605413\n",
      "  (0, 209101)\t0.0502752532571\n",
      "  (0, 261573)\t0.0277386897734\n",
      "  (0, 110476)\t0.0271848309179\n",
      "  (0, 254808)\t0.0801225230173\n",
      "  (0, 141488)\t0.0924418149752\n",
      "  (0, 14212)\t0.0963843510843\n",
      "  (0, 139015)\t0.103553544041\n",
      "  (0, 78318)\t0.0593980083797\n",
      "  (0, 256818)\t0.0801225230173\n",
      "  (0, 24330)\t0.0801225230173\n"
     ]
    }
   ],
   "source": [
    "print X[0]"
   ]
  },
  {
   "cell_type": "code",
   "execution_count": 316,
   "metadata": {
    "collapsed": false
   },
   "outputs": [
    {
     "data": {
      "text/plain": [
       "(940, 319412)"
      ]
     },
     "execution_count": 316,
     "metadata": {},
     "output_type": "execute_result"
    }
   ],
   "source": [
    "X.shape"
   ]
  },
  {
   "cell_type": "code",
   "execution_count": 317,
   "metadata": {
    "collapsed": false
   },
   "outputs": [
    {
     "data": {
      "text/plain": [
       "TruncatedSVD(algorithm='randomized', n_components=20, n_iter=100,\n",
       "       random_state=None, tol=0.0)"
      ]
     },
     "execution_count": 317,
     "metadata": {},
     "output_type": "execute_result"
    }
   ],
   "source": [
    "lsa = TruncatedSVD(n_components=20, n_iter=100)\n",
    "lsa.fit(X)"
   ]
  },
  {
   "cell_type": "code",
   "execution_count": 318,
   "metadata": {
    "collapsed": false
   },
   "outputs": [
    {
     "data": {
      "text/plain": [
       "array([ 0.00031093,  0.00031093,  0.00031093, ...,  0.00142154,\n",
       "        0.00142154,  0.00142154])"
      ]
     },
     "execution_count": 318,
     "metadata": {},
     "output_type": "execute_result"
    }
   ],
   "source": [
    "lsa.components_[0]"
   ]
  },
  {
   "cell_type": "code",
   "execution_count": 319,
   "metadata": {
    "collapsed": false
   },
   "outputs": [
    {
     "name": "stdout",
     "output_type": "stream",
     "text": [
      "Concept 0:\n",
      "armenian\n",
      "armenians\n",
      "turkish\n",
      "israel\n",
      "jews\n",
      "serdar\n",
      "argic\n",
      "armenia\n",
      "serdar argic\n",
      "israeli\n",
      " \n",
      "Concept 1:\n",
      "turkish\n",
      "armenians\n",
      "armenia\n",
      "istanbul\n",
      "russian\n",
      "armenian\n",
      "genocide\n",
      "turkey\n",
      "ankara\n",
      "muslim\n",
      " \n",
      "Concept 2:\n",
      "istanbul\n",
      "professor\n",
      "professor history\n",
      "ankara\n",
      "osmanli\n",
      "ermeni\n",
      "history\n",
      "foreign office\n",
      "history university\n",
      "new\n",
      " \n",
      "Concept 3:\n",
      "tartars\n",
      "government\n",
      "russian\n",
      "tartar\n",
      "percent\n",
      "population\n",
      "002811 22496\n",
      "army\n",
      "jews\n",
      "would\n",
      " \n",
      "Concept 4:\n",
      "professor\n",
      "professor history\n",
      "history\n",
      "history university\n",
      "professor history university\n",
      "002811\n",
      "university\n",
      "armenians\n",
      "apartment\n",
      "us\n",
      " \n",
      "Concept 5:\n",
      "turkish\n",
      "turks\n",
      "university\n",
      "first\n",
      "genocide\n",
      "professor\n",
      "organization\n",
      "professor history\n",
      "002811 22496\n",
      "zuma uucp\n",
      " \n",
      "Concept 6:\n",
      "armenian\n",
      "soviet\n",
      "armenians\n",
      "time\n",
      "war\n",
      "two\n",
      "know\n",
      "005019 10716 midway\n",
      "israeli\n",
      "us\n",
      " \n",
      "Concept 7:\n",
      "armenian\n",
      "lines\n",
      "004917 3047 news\n",
      "israel\n",
      "state\n",
      "hojali\n",
      "world\n",
      "muslims\n",
      "dead\n",
      "ottoman\n",
      " \n",
      "Concept 8:\n",
      "005019\n",
      "armenians\n",
      "war\n",
      "know\n",
      "armenian\n",
      "world\n",
      "uucp\n",
      "jews\n",
      "azerbaijani\n",
      "well\n",
      " \n",
      "Concept 9:\n",
      "004917 3047\n",
      "lines\n",
      "well\n",
      "first\n",
      "004917 3047 news\n",
      "turkey\n",
      "turkish\n",
      "would\n",
      "organization\n",
      "extermination\n",
      " \n",
      "Concept 10:\n",
      "004917 3047 news\n",
      "would\n",
      "war\n",
      "zuma uucp\n",
      "005019\n",
      "armenia\n",
      "005019 10716\n",
      "country\n",
      "jews\n",
      "turkish\n",
      " \n",
      "Concept 11:\n",
      "lines\n",
      "writes\n",
      "argic\n",
      "soviet\n",
      "russian\n",
      "turks\n",
      "arabs\n",
      "government\n",
      "state\n",
      "yalanci\n",
      " \n",
      "Concept 12:\n",
      "jews\n",
      "004917 3047 news\n",
      "uucp\n",
      "writes\n",
      "make\n",
      "israeli\n",
      "muslims\n",
      "argic\n",
      "might\n",
      "004917 3047\n",
      " \n",
      "Concept 13:\n",
      "writes\n",
      "genocide\n",
      "argic\n",
      "00081100 ysub ysu\n",
      "004917 3047\n",
      "also\n",
      "way\n",
      "made\n",
      "children\n",
      "armenians\n",
      " \n",
      "Concept 14:\n",
      "israeli\n",
      "would\n",
      "armenians\n",
      "know\n",
      "cs\n",
      "uucp\n",
      "university\n",
      "azerbaijan\n",
      "002811 22496 usage\n",
      "lines\n",
      " \n",
      "Concept 15:\n",
      "turkish\n",
      "002811\n",
      "005019\n",
      "would\n",
      "lines\n",
      "israel\n",
      "government\n",
      "ways\n",
      "make\n",
      "many\n",
      " \n",
      "Concept 16:\n",
      "serdar\n",
      "turkish\n",
      "005019 10716 midway\n",
      "005019 10716\n",
      "say\n",
      "005019\n",
      "uucp\n",
      "first\n",
      "children\n",
      "know\n",
      " \n",
      "Concept 17:\n",
      "004917 3047 news\n",
      "serdar argic\n",
      "jews\n",
      "state\n",
      "way\n",
      "years\n",
      "turks\n",
      "war\n",
      "muslims\n",
      "virginia\n",
      " \n",
      "Concept 18:\n",
      "muslims\n",
      "lines\n",
      "005019\n",
      "writes\n",
      "killed\n",
      "today\n",
      "sera\n",
      "sera zuma\n",
      "sera zuma uucp\n",
      "uucp serdar\n",
      " \n",
      "Concept 19:\n",
      "armenians\n",
      "israeli\n",
      "us\n",
      "israel\n",
      "population\n",
      "two\n",
      "turks\n",
      "00081100 ysub ysu\n",
      "sera\n",
      "sera zuma\n",
      " \n"
     ]
    }
   ],
   "source": [
    "terms = vectorizer.get_feature_names()\n",
    "for i, comp in enumerate(lsa.components_): \n",
    "    termsInComp = zip (terms,comp)\n",
    "    sortedTerms =  sorted(termsInComp, key=lambda x: x[1], reverse=True) [:10]\n",
    "    print \"Concept %d:\" % i\n",
    "    for term in sortedTerms:\n",
    "        print term[0]\n",
    "    print \" \""
   ]
  },
  {
   "cell_type": "markdown",
   "metadata": {},
   "source": [
    "When we look at the different concepts we can interpert that the data is something about the israel, arabs, jews,turkish,russians,tartars,armenians, genocide and something about the history .\n"
   ]
  },
  {
   "cell_type": "code",
   "execution_count": null,
   "metadata": {
    "collapsed": true
   },
   "outputs": [],
   "source": []
  }
 ],
 "metadata": {
  "kernelspec": {
   "display_name": "Python 2",
   "language": "python",
   "name": "python2"
  },
  "language_info": {
   "codemirror_mode": {
    "name": "ipython",
    "version": 2
   },
   "file_extension": ".py",
   "mimetype": "text/x-python",
   "name": "python",
   "nbconvert_exporter": "python",
   "pygments_lexer": "ipython2",
   "version": "2.7.11"
  }
 },
 "nbformat": 4,
 "nbformat_minor": 0
}
